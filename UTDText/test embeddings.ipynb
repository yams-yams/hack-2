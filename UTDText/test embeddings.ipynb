{
 "cells": [
  {
   "cell_type": "code",
   "execution_count": 10,
   "outputs": [],
   "source": [
    "import pandas as pd\n",
    "import openai\n",
    "import numpy as np\n",
    "from openai.embeddings_utils import distances_from_embeddings, cosine_similarity"
   ],
   "metadata": {
    "collapsed": false,
    "pycharm": {
     "name": "#%%\n"
    }
   }
  },
  {
   "cell_type": "code",
   "execution_count": 11,
   "outputs": [
    {
     "name": "stdout",
     "output_type": "stream",
     "text": [
      "start apply\n",
      "end apply\n"
     ]
    },
    {
     "data": {
      "text/plain": "                                                text  n_tokens  \\\n0  atalog.utdallas.edu 2013 graduate admission re...       464   \n1  Academic Good Standing Registration in the gra...       490   \n2  Paying Fees as a Part of Registration A studen...       465   \n3  The following guidelines describe whether or n...       501   \n4  Such courses with an earned grade of 'B' or be...       493   \n\n                                          embeddings  \n0  [-0.006768117658793926, -0.018370606005191803,...  \n1  [0.017427491024136543, -0.014574022963643074, ...  \n2  [9.117217996390536e-05, -0.014734090305864811,...  \n3  [0.0068955812603235245, -0.008433591574430466,...  \n4  [-0.005029195919632912, -0.016063299030065536,...  ",
      "text/html": "<div>\n<style scoped>\n    .dataframe tbody tr th:only-of-type {\n        vertical-align: middle;\n    }\n\n    .dataframe tbody tr th {\n        vertical-align: top;\n    }\n\n    .dataframe thead th {\n        text-align: right;\n    }\n</style>\n<table border=\"1\" class=\"dataframe\">\n  <thead>\n    <tr style=\"text-align: right;\">\n      <th></th>\n      <th>text</th>\n      <th>n_tokens</th>\n      <th>embeddings</th>\n    </tr>\n  </thead>\n  <tbody>\n    <tr>\n      <th>0</th>\n      <td>atalog.utdallas.edu 2013 graduate admission re...</td>\n      <td>464</td>\n      <td>[-0.006768117658793926, -0.018370606005191803,...</td>\n    </tr>\n    <tr>\n      <th>1</th>\n      <td>Academic Good Standing Registration in the gra...</td>\n      <td>490</td>\n      <td>[0.017427491024136543, -0.014574022963643074, ...</td>\n    </tr>\n    <tr>\n      <th>2</th>\n      <td>Paying Fees as a Part of Registration A studen...</td>\n      <td>465</td>\n      <td>[9.117217996390536e-05, -0.014734090305864811,...</td>\n    </tr>\n    <tr>\n      <th>3</th>\n      <td>The following guidelines describe whether or n...</td>\n      <td>501</td>\n      <td>[0.0068955812603235245, -0.008433591574430466,...</td>\n    </tr>\n    <tr>\n      <th>4</th>\n      <td>Such courses with an earned grade of 'B' or be...</td>\n      <td>493</td>\n      <td>[-0.005029195919632912, -0.016063299030065536,...</td>\n    </tr>\n  </tbody>\n</table>\n</div>"
     },
     "execution_count": 11,
     "metadata": {},
     "output_type": "execute_result"
    }
   ],
   "source": [
    "df = pd.read_csv('processed/embeddings.csv', index_col=0)\n",
    "print(\"start apply\")\n",
    "df['embeddings'] = df['embeddings'].apply(eval).apply(np.array)\n",
    "print(\"end apply\")\n",
    "df.head()"
   ],
   "metadata": {
    "collapsed": false,
    "pycharm": {
     "name": "#%%\n"
    }
   }
  },
  {
   "cell_type": "code",
   "execution_count": null,
   "outputs": [],
   "source": [
    "openai.api_key = 'APIKEY'"
   ],
   "metadata": {
    "collapsed": false,
    "pycharm": {
     "name": "#%%\n"
    }
   }
  },
  {
   "cell_type": "code",
   "execution_count": null,
   "outputs": [],
   "source": [
    "\n",
    "def create_context(\n",
    "        question, df, max_len=1800, size=\"ada\"\n",
    "):\n",
    "    \"\"\"\n",
    "    Create a context for a question by finding the most similar context from the dataframe\n",
    "    \"\"\"\n",
    "\n",
    "    # Get the embeddings for the question\n",
    "    # print(\"Start embeddings\")\n",
    "    q_embeddings = openai.Embedding.create(input=question, engine='text-embedding-ada-002')['data'][0]['embedding']\n",
    "    # print(\"End embeddings\")\n",
    "    # Get the distances from the embeddings\n",
    "    # print(\"Start calculating cosine similarity\")\n",
    "    df['distances'] = distances_from_embeddings(q_embeddings, df['embeddings'].values, distance_metric='cosine')\n",
    "    # print(\"End calculating cosine similarity\")\n",
    "    returns = []\n",
    "    cur_len = 0\n",
    "\n",
    "    # Sort by distance and add the text to the context until the context is too long\n",
    "    # print(\"start sort by distance\")\n",
    "    for i, row in df.sort_values('distances', ascending=True).iterrows():\n",
    "\n",
    "        # Add the length of the text to the current length\n",
    "        cur_len += row['n_tokens'] + 4\n",
    "\n",
    "        # If the context is too long, break\n",
    "        if cur_len > max_len:\n",
    "            break\n",
    "\n",
    "        # Else add it to the text that is being returned\n",
    "        returns.append(row[\"text\"])\n",
    "\n",
    "    # Return the context\n",
    "    return \"\\n\\n###\\n\\n\".join(returns)\n",
    "\n",
    "\n",
    "def answer_question(\n",
    "        df,\n",
    "        model=\"text-davinci-003\",\n",
    "        question=\"What classes do I need to take to graduate?\",\n",
    "        max_len=1800,\n",
    "        size=\"ada\",\n",
    "        debug=False,\n",
    "        max_tokens=150,\n",
    "        stop_sequence=None\n",
    "):\n",
    "    \"\"\"\n",
    "    Answer a question based on the most similar context from the dataframe texts\n",
    "    \"\"\"\n",
    "    context = create_context(\n",
    "        question,\n",
    "        df,\n",
    "        max_len=max_len,\n",
    "        size=size,\n",
    "    )\n",
    "    # print(\"end sort by distance\")\n",
    "    # If debug, print the raw model response\n",
    "    if debug:\n",
    "        print(\"Context:\\n\" + context)\n",
    "        print(\"\\n\\n\")\n",
    "\n",
    "    try:\n",
    "        # Create a completions using the questin and context\n",
    "        response = openai.Completion.create(\n",
    "            prompt=f\"Answer the question based on the context below, and if the question can't be answered based on the context, say \\\"Unfortunately, I have not been trained to answer that question yet (If you would like to help finacially support the text embedding process, please contact the creators after this presentation)\\\"\\n\\nContext: {context}\\n\\n---\\n\\nQuestion: {question}\\nAnswer:\",\n",
    "            temperature=0,\n",
    "            max_tokens=max_tokens,\n",
    "            top_p=1,\n",
    "            frequency_penalty=0,\n",
    "            presence_penalty=0,\n",
    "            stop=stop_sequence,\n",
    "            model=model,\n",
    "        )\n",
    "        return response[\"choices\"][0][\"text\"].strip()\n",
    "    except Exception as e:\n",
    "        print(e)\n",
    "        return \"\"\n",
    "\n",
    "\n",
    "################################################################################\n",
    "### Step 13\n",
    "################################################################################\n",
    "\n",
    "def askGPT(question, messages):\n",
    "\n",
    "    textcompletions = answer_question(df, question=question, debug=False)\n",
    "    messages.append({\"role\": \"user\", \"content\": f\"{question} ### text embeddings: {textcompletions}\"})\n",
    "    response = openai.ChatCompletion.create(\n",
    "        model=\"gpt-3.5-turbo\",\n",
    "        messages=messages\n",
    "    )\n",
    "    messages.append(\n",
    "        {\"role\": response['choices'][0]['message']['role'],\"content\": response['choices'][0]['message']['content']}\n",
    "    )\n",
    "    return {response['choices'][0]['message']['content']}\n",
    "#\n",
    "# print(answer_question(df, question=\"How can I start the graduation process?\", debug=False))\n",
    "#\n",
    "# print(answer_question(df, question=\"What are the core courses that I have to take?\"))"
   ],
   "metadata": {
    "collapsed": false,
    "pycharm": {
     "name": "#%%\n"
    }
   }
  },
  {
   "cell_type": "code",
   "execution_count": null,
   "outputs": [],
   "source": [
    "messages = [{\"role\": \"system\", \"content\": f\"You are an AI academic advisor named GradGuide that has been trained on text embeddings of the UT Dallas catalogs. Use text embeddings to inform your responses\"}]\n",
    "print(\"Hello, I am GradGuide, your personal AI academic advisor. Can I help you with anything today?\")\n",
    "while True:\n",
    "    myQn = input()\n",
    "    print(\"\")\n",
    "    print(askGPT(myQn, messages))"
   ],
   "metadata": {
    "collapsed": false,
    "pycharm": {
     "name": "#%%\n"
    }
   }
  }
 ],
 "metadata": {
  "kernelspec": {
   "display_name": "Python 3",
   "language": "python",
   "name": "python3"
  },
  "language_info": {
   "codemirror_mode": {
    "name": "ipython",
    "version": 2
   },
   "file_extension": ".py",
   "mimetype": "text/x-python",
   "name": "python",
   "nbconvert_exporter": "python",
   "pygments_lexer": "ipython2",
   "version": "2.7.6"
  }
 },
 "nbformat": 4,
 "nbformat_minor": 0
}